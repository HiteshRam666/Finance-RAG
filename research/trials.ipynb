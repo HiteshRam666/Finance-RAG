{
 "cells": [
  {
   "cell_type": "code",
   "execution_count": 1,
   "id": "6ea597a5",
   "metadata": {},
   "outputs": [],
   "source": [
    "from langchain_community.document_loaders import PyPDFLoader, DirectoryLoader\n",
    "from langchain.text_splitter import RecursiveCharacterTextSplitter"
   ]
  },
  {
   "cell_type": "markdown",
   "id": "a03ba078",
   "metadata": {},
   "source": [
    "### **Data Loading**"
   ]
  },
  {
   "cell_type": "code",
   "execution_count": 2,
   "id": "686e4f80",
   "metadata": {},
   "outputs": [],
   "source": [
    "# Extract text from pdf \n",
    "def load_pdf_files(data):\n",
    "    loader = DirectoryLoader(\n",
    "        data, \n",
    "        glob = \"*.pdf\",\n",
    "        loader_cls = PyPDFLoader\n",
    "    )\n",
    "\n",
    "    documents = loader.load() \n",
    "    return documents"
   ]
  },
  {
   "cell_type": "code",
   "execution_count": 3,
   "id": "b00ff752",
   "metadata": {},
   "outputs": [
    {
     "name": "stderr",
     "output_type": "stream",
     "text": [
      "Ignoring wrong pointing object 0 0 (offset 0)\n"
     ]
    }
   ],
   "source": [
    "extracted_data = load_pdf_files(\"C:\\\\Users\\\\hites\\\\OneDrive\\\\Desktop\\\\Bot\\\\data\")"
   ]
  },
  {
   "cell_type": "code",
   "execution_count": 4,
   "id": "53dbca16",
   "metadata": {},
   "outputs": [
    {
     "data": {
      "text/plain": [
       "859"
      ]
     },
     "execution_count": 4,
     "metadata": {},
     "output_type": "execute_result"
    }
   ],
   "source": [
    "len(extracted_data)"
   ]
  },
  {
   "cell_type": "markdown",
   "id": "168722e0",
   "metadata": {},
   "source": [
    "### **Data Pre-processing**"
   ]
  },
  {
   "cell_type": "code",
   "execution_count": 21,
   "id": "81e42171",
   "metadata": {},
   "outputs": [],
   "source": [
    "from typing import List\n",
    "from langchain.schema import Document\n",
    "\n",
    "def filter_docs(docs: List[Document]) -> List[Document]:\n",
    "    \"\"\"\n",
    "    Given a list of document objects, Return a new list of document objects\n",
    "    containing only 'source' in metadata and the original page content\n",
    "    \"\"\"\n",
    "    filtered_docs: List[Document] = [] \n",
    "    for doc in docs:\n",
    "        src = doc.metadata.get(\"source\")\n",
    "        filtered_docs.append(\n",
    "            Document(\n",
    "                page_content=doc.page_content, \n",
    "                metadata = {\"source\": src}\n",
    "            )\n",
    "        )\n",
    "    return filtered_docs\n"
   ]
  },
  {
   "cell_type": "code",
   "execution_count": 22,
   "id": "87f2193a",
   "metadata": {},
   "outputs": [],
   "source": [
    "filtered_docs = filter_docs(extracted_data)"
   ]
  },
  {
   "cell_type": "code",
   "execution_count": 26,
   "id": "e4eb861b",
   "metadata": {},
   "outputs": [
    {
     "data": {
      "text/plain": [
       "[Document(metadata={'source': 'C:\\\\Users\\\\hites\\\\OneDrive\\\\Desktop\\\\Bot\\\\data\\\\Encyclopedia_finance.pdf'}, page_content=''),\n",
       " Document(metadata={'source': 'C:\\\\Users\\\\hites\\\\OneDrive\\\\Desktop\\\\Bot\\\\data\\\\Encyclopedia_finance.pdf'}, page_content='Encyclopedia of Finance'),\n",
       " Document(metadata={'source': 'C:\\\\Users\\\\hites\\\\OneDrive\\\\Desktop\\\\Bot\\\\data\\\\Encyclopedia_finance.pdf'}, page_content='The Editors\\nCheng-Few Lee,Rutgers University, USA\\nAlice C. Lee,San Franscisco State University, USA\\nADVISORY BOARD\\nJames R. Barth,Auburn University and Milken Institute, USA\\nIvan Brick,Rutgers University, USA\\nWayne Ferson,Boston College, USA\\nJoseph E. Finnerty,Universty of Illinois, USA\\nMartin J. Gruber,New York University, USA\\nGeorge Kaufman,Layola University, USA\\nJohn Kose,New York University, USA\\nRobert A. Schwartz,City University of New York, USA'),\n",
       " Document(metadata={'source': 'C:\\\\Users\\\\hites\\\\OneDrive\\\\Desktop\\\\Bot\\\\data\\\\Encyclopedia_finance.pdf'}, page_content='Encyclopedia of Finance\\nEdited by\\nCHENG-FEW LEE\\nRutgers University\\nand\\nALICE C. LEE\\nSan Francisco State University'),\n",
       " Document(metadata={'source': 'C:\\\\Users\\\\hites\\\\OneDrive\\\\Desktop\\\\Bot\\\\data\\\\Encyclopedia_finance.pdf'}, page_content='Library of Congress Cataloging-in-Publication Data\\nEncyclopedia of finance / edited by Cheng-Few Lee and Alice C. Lee\\np.cm.\\nIncludes bibliographical references and index.\\nISBN-13: 978-0-387-26284-0 (alk. paper)\\nISBN-10: 0-387-26284-9 (alk.paper)\\nISBN-10: 0-387-26336-5 (e-book)\\n1. Finance-Encyclopedias. I. Lee, Cheng F. II. Lee, Alice C.\\nHG151.E625 2006\\n332’.03-dc22 2005049962\\n/C2232006 Springer Science+Business Media, Inc.\\nAll rights reserved. This work may not be translated or copied in whole or in part without the written\\npermission of the publisher (Springer Science þBusiness Media, Inc., 233 Spring Street, New York, NY\\n10013, USA), except for brief excerpts in connection with reviews or scholarly analysis. Use in connection\\nwith any form of information storage and retrieval, electronic adaptation, computer software, or by\\nsimilar or dissimilar methodology now known or hereafter developed is forbidden.\\nThe use in this publication of trade names, trademarks, service marks and similar terms, even if they are\\nnot identified as such, is not to be taken as an expression of opinion as to whether or not they are subject\\nto proprietary rights\\nPrinted in the United States of America.\\n9 8 7 6 5 4 3 2 1 SPIN 11416555\\nspringer.com')]"
      ]
     },
     "execution_count": 26,
     "metadata": {},
     "output_type": "execute_result"
    }
   ],
   "source": [
    "filtered_docs[:5]"
   ]
  },
  {
   "cell_type": "markdown",
   "id": "c3fb6b2f",
   "metadata": {},
   "source": [
    "### **Text Splitting and Chunking**"
   ]
  },
  {
   "cell_type": "code",
   "execution_count": 27,
   "id": "4a0c0fb6",
   "metadata": {},
   "outputs": [],
   "source": [
    "# Creating chunks \n",
    "def text_split(filtered_docs):\n",
    "    text_splitter = RecursiveCharacterTextSplitter(\n",
    "        chunk_size = 500, \n",
    "        chunk_overlap = 50\n",
    "    )\n",
    "    text_chunks = text_splitter.split_documents(filtered_docs)\n",
    "    return text_chunks"
   ]
  },
  {
   "cell_type": "code",
   "execution_count": 28,
   "id": "0f4723c8",
   "metadata": {},
   "outputs": [],
   "source": [
    "text_chunks = text_split(filtered_docs)"
   ]
  },
  {
   "cell_type": "code",
   "execution_count": 29,
   "id": "67ecb8dd",
   "metadata": {},
   "outputs": [
    {
     "data": {
      "text/plain": [
       "6595"
      ]
     },
     "execution_count": 29,
     "metadata": {},
     "output_type": "execute_result"
    }
   ],
   "source": [
    "len(text_chunks)"
   ]
  },
  {
   "cell_type": "markdown",
   "id": "a2596807",
   "metadata": {},
   "source": [
    "### **Embedding & RAG Creation**"
   ]
  },
  {
   "cell_type": "code",
   "execution_count": 81,
   "id": "6806bde5",
   "metadata": {},
   "outputs": [],
   "source": [
    "from langchain_openai import OpenAIEmbeddings, ChatOpenAI\n",
    "from dotenv import load_dotenv \n",
    "import os \n",
    "\n",
    "os.environ[\"PINECONE_API_KEY\"] = os.getenv(\"PINECONE_API_KEY\")\n",
    "os.environ[\"OPENAI_API_KEY\"] = os.getenv(\"OPENAI_API_KEY\")"
   ]
  },
  {
   "cell_type": "code",
   "execution_count": 82,
   "id": "cca5590f",
   "metadata": {},
   "outputs": [],
   "source": [
    "embedding_model = OpenAIEmbeddings(model=\"text-embedding-3-small\")"
   ]
  },
  {
   "cell_type": "code",
   "execution_count": 88,
   "id": "e72794c2",
   "metadata": {},
   "outputs": [],
   "source": [
    "emb = embedding_model.embed_query(\"Hello world\")"
   ]
  },
  {
   "cell_type": "code",
   "execution_count": 86,
   "id": "a75a149c",
   "metadata": {},
   "outputs": [],
   "source": [
    "from pinecone import Pinecone\n",
    "pinecone_api_key = os.getenv(\"PINECONE_API_KEY\")\n",
    "\n",
    "pc = Pinecone(\n",
    "    api_key=pinecone_api_key\n",
    ")"
   ]
  },
  {
   "cell_type": "code",
   "execution_count": 96,
   "id": "0416adcb",
   "metadata": {},
   "outputs": [],
   "source": [
    "from pinecone import ServerlessSpec\n",
    "\n",
    "index_name = \"finance-bot\"\n",
    "\n",
    "if not pc.has_index(index_name):\n",
    "    pc.create_index(\n",
    "        name = index_name, \n",
    "        dimension=1536, # Dim of the embedding \n",
    "        metric=\"cosine\", # Cosine similarity\n",
    "        spec=ServerlessSpec(cloud=\"aws\", region=\"us-east-1\")\n",
    "    )"
   ]
  },
  {
   "cell_type": "code",
   "execution_count": 97,
   "id": "0a204372",
   "metadata": {},
   "outputs": [],
   "source": [
    "index = pc.Index(index_name)"
   ]
  },
  {
   "cell_type": "code",
   "execution_count": 98,
   "id": "61f30643",
   "metadata": {},
   "outputs": [],
   "source": [
    "from langchain_pinecone import PineconeVectorStore\n",
    "\n",
    "docsearch = PineconeVectorStore.from_documents(\n",
    "    documents=text_chunks, \n",
    "    embedding = embedding_model, \n",
    "    index_name = index_name\n",
    ")"
   ]
  },
  {
   "cell_type": "code",
   "execution_count": 99,
   "id": "17de06c6",
   "metadata": {},
   "outputs": [],
   "source": [
    "docsearch_existing = PineconeVectorStore.from_existing_index(\n",
    "    index_name= index_name, \n",
    "    embedding=embedding_model\n",
    ")"
   ]
  },
  {
   "cell_type": "code",
   "execution_count": 105,
   "id": "4a56705f",
   "metadata": {},
   "outputs": [],
   "source": [
    "retriever = docsearch.as_retriever(search_type = \"similarity\", search_kwargs = {'k': 3})"
   ]
  },
  {
   "cell_type": "code",
   "execution_count": 106,
   "id": "56a23347",
   "metadata": {},
   "outputs": [
    {
     "data": {
      "text/plain": [
       "[Document(id='bab4fef4-cbd3-4c57-8142-eac04ed648e8', metadata={'source': 'C:\\\\Users\\\\hites\\\\OneDrive\\\\Desktop\\\\Bot\\\\data\\\\Encyclopedia_finance.pdf'}, page_content='Encyclopedia of Finance'),\n",
       " Document(id='c31ef2b5-a48d-47db-be7c-a23997fe72a3', metadata={'source': 'C:\\\\Users\\\\hites\\\\OneDrive\\\\Desktop\\\\Bot\\\\data\\\\Encyclopedia_finance.pdf'}, page_content='flows.\\n33. Finance Charge\\nAs defined by truth-in-lending Regulation Z the\\nfinance charge refers to ‘‘all charges payable dir-\\nectly or indirectly by the borrower and imposed\\ndirectly or indirectly by the lender as an incident to\\nor as an extension of credit.’’\\n34. Finance Company\\nA firm that borrows from the money and capital\\nmarkets to make loans to individuals and commer-\\ncial enterprises. The services provided by finance\\ncompanies include consumer lending, business'),\n",
       " Document(id='74349d70-6267-4e96-9536-4eb6530d83aa', metadata={'source': 'C:\\\\Users\\\\hites\\\\OneDrive\\\\Desktop\\\\Bot\\\\data\\\\Encyclopedia_finance.pdf'}, page_content='PREFACE\\nFinance has become one of the most important and popular subjects in\\nmanagement school today. This subject has progressed tremendously in\\nthe last forty years, integrating models and ideas from other areas such as\\nphysics, statistics, and accounting. The financial markets have also rap-\\nidly expanded and changed extensively with improved technology and the\\never changing regulatory and social environment. For example, there has')]"
      ]
     },
     "execution_count": 106,
     "metadata": {},
     "output_type": "execute_result"
    }
   ],
   "source": [
    "retriever.invoke(\"What is finance\")"
   ]
  },
  {
   "cell_type": "code",
   "execution_count": 107,
   "id": "9e8d36f4",
   "metadata": {},
   "outputs": [],
   "source": [
    "chat_model = ChatOpenAI(model=\"gpt-4o-mini\")"
   ]
  },
  {
   "cell_type": "code",
   "execution_count": 124,
   "id": "e15b831a",
   "metadata": {},
   "outputs": [],
   "source": [
    "from langchain.prompts import ChatPromptTemplate\n",
    "\n",
    "system_prompt = (\n",
    "    \"You are a knowledgeable and reliable Financial Assistant designed to help users \"\n",
    "    \"with finance-related questions. Use the provided context to generate accurate, \"\n",
    "    \"clear, and concise answers. Your response should be based strictly on the information \"\n",
    "    \"in the context. If the answer is not available in the context, say that you don't know — \"\n",
    "    \"do not make up answers.\\n\\n\"\n",
    "    \"Respond in a professional tone suitable for investors, analysts, and business users. \"\n",
    "    \"Limit your response to three sentences.\\n\\n\"\n",
    "    \"{context}\"\n",
    ")\n",
    "\n",
    "prompt = ChatPromptTemplate.from_messages([\n",
    "    (\"system\", system_prompt),\n",
    "    (\"human\", \"{input}\"),\n",
    "])"
   ]
  },
  {
   "cell_type": "code",
   "execution_count": 125,
   "id": "4a0b913e",
   "metadata": {},
   "outputs": [],
   "source": [
    "from langchain.chains import create_retrieval_chain\n",
    "from langchain.chains.combine_documents import create_stuff_documents_chain"
   ]
  },
  {
   "cell_type": "code",
   "execution_count": 126,
   "id": "8b35df4a",
   "metadata": {},
   "outputs": [],
   "source": [
    "question_answering_chain = create_stuff_documents_chain(chat_model, prompt)\n",
    "rag_chain = create_retrieval_chain(retriever, question_answering_chain)"
   ]
  },
  {
   "cell_type": "code",
   "execution_count": 131,
   "id": "8b86e8b1",
   "metadata": {},
   "outputs": [
    {
     "name": "stdout",
     "output_type": "stream",
     "text": [
      "Systematic risk affects all investments in the market and cannot be eliminated through diversification, while unsystematic risk pertains to individual assets and can be mitigated by holding a diversified portfolio. Investors aiming to achieve complete diversification should focus on holding the market portfolio, which reflects systematic risks. The Capital Asset Pricing Model (CAPM) provides a framework to measure an asset's systematic risk by comparing its returns to those of the market portfolio, supporting the idea that optimal portfolios are established at the tangency point in mean-standard deviation space.\n"
     ]
    }
   ],
   "source": [
    "response = rag_chain.invoke({\"input\": \"How does the concept of systematic and unsystematic risk influence portfolio diversification, and what role does the CAPM model play in this context?\"})\n",
    "print(response[\"answer\"])"
   ]
  },
  {
   "cell_type": "code",
   "execution_count": 132,
   "id": "31eb1869",
   "metadata": {},
   "outputs": [
    {
     "name": "stdout",
     "output_type": "stream",
     "text": [
      "The Modigliani-Miller theorem posits that in a world without taxes and bankruptcy costs, a firm's capital structure does not affect its overall value. However, when taxes are introduced, the proposition is modified to incorporate the tax shield value of debt, thereby indicating that leverage can enhance firm value due to the tax deductibility of interest (as per equation VL = VU + (T)(D)). Additionally, in real markets, the existence of bankruptcy costs can further negate the benefits of high leverage, altering the optimal capital structure and emphasizing the trade-off between tax advantages and potential financial distress.\n"
     ]
    }
   ],
   "source": [
    "response = rag_chain.invoke({\"input\": \"How does the Modigliani-Miller theorem challenge traditional views on capital structure, and how do taxes and bankruptcy costs modify its conclusions in real markets?\"})\n",
    "print(response[\"answer\"])"
   ]
  },
  {
   "cell_type": "code",
   "execution_count": 135,
   "id": "943edfe9",
   "metadata": {},
   "outputs": [
    {
     "name": "stdout",
     "output_type": "stream",
     "text": [
      "Passive investment strategies involve buying and holding a well-diversified portfolio that represents a broad-based market index without attempting to identify mispriced securities. In contrast, active investment strategies seek to outperform the market by making specific security selections based on market analysis and predictions. The Efficient Market Hypothesis (EMH) supports passive strategies by suggesting that all available information is already reflected in stock prices, making it difficult for investors with private information to consistently outperform a passive investment approach.\n"
     ]
    }
   ],
   "source": [
    "response = rag_chain.invoke({\"input\": \"What are the key differences between passive and active investment strategies, and how does the Efficient Market Hypothesis support or challenge each?\"})\n",
    "print(response[\"answer\"])"
   ]
  },
  {
   "cell_type": "code",
   "execution_count": 136,
   "id": "7c9cb0a2",
   "metadata": {},
   "outputs": [
    {
     "name": "stdout",
     "output_type": "stream",
     "text": [
      "I don't know.\n"
     ]
    }
   ],
   "source": [
    "response = rag_chain.invoke({\"input\": \"How to loose weight fast\"})\n",
    "print(response[\"answer\"])"
   ]
  },
  {
   "cell_type": "code",
   "execution_count": null,
   "id": "fbd3d72e",
   "metadata": {},
   "outputs": [],
   "source": []
  }
 ],
 "metadata": {
  "kernelspec": {
   "display_name": "venv",
   "language": "python",
   "name": "python3"
  },
  "language_info": {
   "codemirror_mode": {
    "name": "ipython",
    "version": 3
   },
   "file_extension": ".py",
   "mimetype": "text/x-python",
   "name": "python",
   "nbconvert_exporter": "python",
   "pygments_lexer": "ipython3",
   "version": "3.10.11"
  }
 },
 "nbformat": 4,
 "nbformat_minor": 5
}
